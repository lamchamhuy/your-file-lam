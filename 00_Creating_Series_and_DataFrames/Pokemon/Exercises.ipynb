{
  "cells": [
    {
      "cell_type": "markdown",
      "metadata": {
        "id": "view-in-github",
        "colab_type": "text"
      },
      "source": [
        "<a href=\"https://colab.research.google.com/github/lamchamhuy/your-file-lam/blob/main/00_Creating_Series_and_DataFrames/Pokemon/Exercises.ipynb\" target=\"_parent\"><img src=\"https://colab.research.google.com/assets/colab-badge.svg\" alt=\"Open In Colab\"/></a>"
      ]
    },
    {
      "cell_type": "markdown",
      "metadata": {
        "pycharm": {
          "name": "#%% md\n"
        },
        "id": "mbkWeFYFQSt9"
      },
      "source": [
        "# Pokemon"
      ]
    },
    {
      "cell_type": "markdown",
      "metadata": {
        "pycharm": {
          "name": "#%% md\n"
        },
        "id": "00IvPjmFQSuC"
      },
      "source": [
        "### Introduction:\n",
        "\n",
        "This time you will create the data.\n",
        "\n",
        "\n",
        "\n",
        "### Step 1. Import the necessary libraries"
      ]
    },
    {
      "cell_type": "code",
      "execution_count": null,
      "metadata": {
        "pycharm": {
          "name": "#%%\n"
        },
        "id": "3TCg1I_AQSuD"
      },
      "outputs": [],
      "source": [
        "import numpy as np\n",
        "import pandas as pd\n",
        "import matplotlib.pyplot as plt"
      ]
    },
    {
      "cell_type": "markdown",
      "metadata": {
        "pycharm": {
          "name": "#%% md\n"
        },
        "id": "a3DDhU9dQSuE"
      },
      "source": [
        "### Step 2. Create a data dictionary that looks like the DataFrame below"
      ]
    },
    {
      "cell_type": "code",
      "execution_count": 8,
      "metadata": {
        "collapsed": true,
        "pycharm": {
          "name": "#%%\n"
        },
        "id": "m1u1kUwnQSuF",
        "outputId": "d817008f-a664-47ba-fa50-4595e26a58d0",
        "colab": {
          "base_uri": "https://localhost:8080/",
          "height": 175
        }
      },
      "outputs": [
        {
          "output_type": "display_data",
          "data": {
            "text/plain": [
              "<pandas.io.formats.style.Styler at 0x7902cb808c10>"
            ],
            "text/html": [
              "<style type=\"text/css\">\n",
              "#T_2e6ee th {\n",
              "  font-weight: bold;\n",
              "}\n",
              "</style>\n",
              "<table id=\"T_2e6ee\" class=\"dataframe\">\n",
              "  <thead>\n",
              "    <tr>\n",
              "      <th class=\"blank level0\" >&nbsp;</th>\n",
              "      <th id=\"T_2e6ee_level0_col0\" class=\"col_heading level0 col0\" >evolution</th>\n",
              "      <th id=\"T_2e6ee_level0_col1\" class=\"col_heading level0 col1\" >hp</th>\n",
              "      <th id=\"T_2e6ee_level0_col2\" class=\"col_heading level0 col2\" >name</th>\n",
              "      <th id=\"T_2e6ee_level0_col3\" class=\"col_heading level0 col3\" >pokedex</th>\n",
              "      <th id=\"T_2e6ee_level0_col4\" class=\"col_heading level0 col4\" >type</th>\n",
              "    </tr>\n",
              "  </thead>\n",
              "  <tbody>\n",
              "    <tr>\n",
              "      <th id=\"T_2e6ee_level0_row0\" class=\"row_heading level0 row0\" >0</th>\n",
              "      <td id=\"T_2e6ee_row0_col0\" class=\"data row0 col0\" >Ivysaur</td>\n",
              "      <td id=\"T_2e6ee_row0_col1\" class=\"data row0 col1\" >45</td>\n",
              "      <td id=\"T_2e6ee_row0_col2\" class=\"data row0 col2\" >Bulbasaur</td>\n",
              "      <td id=\"T_2e6ee_row0_col3\" class=\"data row0 col3\" >yes</td>\n",
              "      <td id=\"T_2e6ee_row0_col4\" class=\"data row0 col4\" >grass</td>\n",
              "    </tr>\n",
              "    <tr>\n",
              "      <th id=\"T_2e6ee_level0_row1\" class=\"row_heading level0 row1\" >1</th>\n",
              "      <td id=\"T_2e6ee_row1_col0\" class=\"data row1 col0\" >Charmeleon</td>\n",
              "      <td id=\"T_2e6ee_row1_col1\" class=\"data row1 col1\" >39</td>\n",
              "      <td id=\"T_2e6ee_row1_col2\" class=\"data row1 col2\" >Charmander</td>\n",
              "      <td id=\"T_2e6ee_row1_col3\" class=\"data row1 col3\" >no</td>\n",
              "      <td id=\"T_2e6ee_row1_col4\" class=\"data row1 col4\" >fire</td>\n",
              "    </tr>\n",
              "    <tr>\n",
              "      <th id=\"T_2e6ee_level0_row2\" class=\"row_heading level0 row2\" >2</th>\n",
              "      <td id=\"T_2e6ee_row2_col0\" class=\"data row2 col0\" >Wartortle</td>\n",
              "      <td id=\"T_2e6ee_row2_col1\" class=\"data row2 col1\" >44</td>\n",
              "      <td id=\"T_2e6ee_row2_col2\" class=\"data row2 col2\" >Squirtle</td>\n",
              "      <td id=\"T_2e6ee_row2_col3\" class=\"data row2 col3\" >yes</td>\n",
              "      <td id=\"T_2e6ee_row2_col4\" class=\"data row2 col4\" >water</td>\n",
              "    </tr>\n",
              "    <tr>\n",
              "      <th id=\"T_2e6ee_level0_row3\" class=\"row_heading level0 row3\" >3</th>\n",
              "      <td id=\"T_2e6ee_row3_col0\" class=\"data row3 col0\" >Metapod</td>\n",
              "      <td id=\"T_2e6ee_row3_col1\" class=\"data row3 col1\" >45</td>\n",
              "      <td id=\"T_2e6ee_row3_col2\" class=\"data row3 col2\" >Caterpie</td>\n",
              "      <td id=\"T_2e6ee_row3_col3\" class=\"data row3 col3\" >no</td>\n",
              "      <td id=\"T_2e6ee_row3_col4\" class=\"data row3 col4\" >bug</td>\n",
              "    </tr>\n",
              "  </tbody>\n",
              "</table>\n"
            ]
          },
          "metadata": {}
        }
      ],
      "source": [
        "import pandas as pd\n",
        "from IPython.core.display import display\n",
        "\n",
        "data = {\n",
        "    \"evolution\": [\"Ivysaur\", \"Charmeleon\", \"Wartortle\", \"Metapod\"],\n",
        "    \"hp\": [45, 39, 44, 45],\n",
        "    \"name\": [\"Bulbasaur\", \"Charmander\", \"Squirtle\", \"Caterpie\"],\n",
        "    \"pokedex\": [\"yes\", \"no\", \"yes\", \"no\"],\n",
        "    \"type\": [\"grass\", \"fire\", \"water\", \"bug\"]\n",
        "}\n",
        "\n",
        "df = pd.DataFrame(data)\n",
        "\n",
        "# Hiển thị bảng với tiêu đề in đậm\n",
        "styled_df = df.style.set_table_styles([{\n",
        "    'selector': 'th',\n",
        "    'props': [('font-weight', 'bold')]\n",
        "}])\n",
        "# Làm tiêu đề in đậm + chữ đỏ\n",
        "# df.style.set_table_styles([\n",
        "#     {'selector': 'th', 'props': [('font-weight', 'bold'), ('color', 'red')]}\n",
        "# ])\n",
        "\n",
        "display(styled_df)  # Dùng display() thay vì print()\n"
      ]
    },
    {
      "cell_type": "markdown",
      "metadata": {
        "pycharm": {
          "name": "#%% md\n"
        },
        "id": "b76LaTn4QSuF"
      },
      "source": [
        "### Step 3. Assign it to a variable called pokemon"
      ]
    },
    {
      "cell_type": "code",
      "execution_count": 11,
      "metadata": {
        "pycharm": {
          "name": "#%%\n"
        },
        "id": "Lcu_xtdcQSuG",
        "outputId": "707ea62b-831a-4387-f34d-be3acede7698",
        "colab": {
          "base_uri": "https://localhost:8080/"
        }
      },
      "outputs": [
        {
          "output_type": "stream",
          "name": "stdout",
          "text": [
            "    evolution  hp        name pokedex   type\n",
            "0     lvysaur  45   Bulbasaur     yes  grass\n",
            "1  Charmeleon  39  Charmander      no   fire\n",
            "2   Wartortle  44    Squirtle     yes  water\n",
            "3     Metapod  45    Caterpie      no    bug\n"
          ]
        }
      ],
      "source": [
        "pokemon = pd.DataFrame(data)\n",
        "print(pokemon)\n"
      ]
    },
    {
      "cell_type": "markdown",
      "metadata": {
        "pycharm": {
          "name": "#%% md\n"
        },
        "id": "sElvLHZKQSuI"
      },
      "source": [
        "### Step 4. Ops...it seems the DataFrame columns are in alphabetical order. Place  the order of the columns as name, type, hp, evolution, pokedex"
      ]
    },
    {
      "cell_type": "code",
      "execution_count": 12,
      "metadata": {
        "pycharm": {
          "name": "#%%\n"
        },
        "id": "SkYTu50gQSuJ",
        "outputId": "765a4522-3e74-4e70-cdc0-3f8fbd55bf7d",
        "colab": {
          "base_uri": "https://localhost:8080/",
          "height": 175
        }
      },
      "outputs": [
        {
          "output_type": "display_data",
          "data": {
            "text/plain": [
              "<pandas.io.formats.style.Styler at 0x7902cbaf3650>"
            ],
            "text/html": [
              "<style type=\"text/css\">\n",
              "#T_938f3 th {\n",
              "  font-weight: bold;\n",
              "}\n",
              "</style>\n",
              "<table id=\"T_938f3\" class=\"dataframe\">\n",
              "  <thead>\n",
              "    <tr>\n",
              "      <th class=\"blank level0\" >&nbsp;</th>\n",
              "      <th id=\"T_938f3_level0_col0\" class=\"col_heading level0 col0\" >name</th>\n",
              "      <th id=\"T_938f3_level0_col1\" class=\"col_heading level0 col1\" >type</th>\n",
              "      <th id=\"T_938f3_level0_col2\" class=\"col_heading level0 col2\" >hp</th>\n",
              "      <th id=\"T_938f3_level0_col3\" class=\"col_heading level0 col3\" >evolution</th>\n",
              "      <th id=\"T_938f3_level0_col4\" class=\"col_heading level0 col4\" >pokedex</th>\n",
              "    </tr>\n",
              "  </thead>\n",
              "  <tbody>\n",
              "    <tr>\n",
              "      <th id=\"T_938f3_level0_row0\" class=\"row_heading level0 row0\" >0</th>\n",
              "      <td id=\"T_938f3_row0_col0\" class=\"data row0 col0\" >Bulbasaur</td>\n",
              "      <td id=\"T_938f3_row0_col1\" class=\"data row0 col1\" >grass</td>\n",
              "      <td id=\"T_938f3_row0_col2\" class=\"data row0 col2\" >45</td>\n",
              "      <td id=\"T_938f3_row0_col3\" class=\"data row0 col3\" >Ivysaur</td>\n",
              "      <td id=\"T_938f3_row0_col4\" class=\"data row0 col4\" >yes</td>\n",
              "    </tr>\n",
              "    <tr>\n",
              "      <th id=\"T_938f3_level0_row1\" class=\"row_heading level0 row1\" >1</th>\n",
              "      <td id=\"T_938f3_row1_col0\" class=\"data row1 col0\" >Charmander</td>\n",
              "      <td id=\"T_938f3_row1_col1\" class=\"data row1 col1\" >fire</td>\n",
              "      <td id=\"T_938f3_row1_col2\" class=\"data row1 col2\" >39</td>\n",
              "      <td id=\"T_938f3_row1_col3\" class=\"data row1 col3\" >Charmeleon</td>\n",
              "      <td id=\"T_938f3_row1_col4\" class=\"data row1 col4\" >no</td>\n",
              "    </tr>\n",
              "    <tr>\n",
              "      <th id=\"T_938f3_level0_row2\" class=\"row_heading level0 row2\" >2</th>\n",
              "      <td id=\"T_938f3_row2_col0\" class=\"data row2 col0\" >Squirtle</td>\n",
              "      <td id=\"T_938f3_row2_col1\" class=\"data row2 col1\" >water</td>\n",
              "      <td id=\"T_938f3_row2_col2\" class=\"data row2 col2\" >44</td>\n",
              "      <td id=\"T_938f3_row2_col3\" class=\"data row2 col3\" >Wartortle</td>\n",
              "      <td id=\"T_938f3_row2_col4\" class=\"data row2 col4\" >yes</td>\n",
              "    </tr>\n",
              "    <tr>\n",
              "      <th id=\"T_938f3_level0_row3\" class=\"row_heading level0 row3\" >3</th>\n",
              "      <td id=\"T_938f3_row3_col0\" class=\"data row3 col0\" >Caterpie</td>\n",
              "      <td id=\"T_938f3_row3_col1\" class=\"data row3 col1\" >bug</td>\n",
              "      <td id=\"T_938f3_row3_col2\" class=\"data row3 col2\" >45</td>\n",
              "      <td id=\"T_938f3_row3_col3\" class=\"data row3 col3\" >Metapod</td>\n",
              "      <td id=\"T_938f3_row3_col4\" class=\"data row3 col4\" >no</td>\n",
              "    </tr>\n",
              "  </tbody>\n",
              "</table>\n"
            ]
          },
          "metadata": {}
        }
      ],
      "source": [
        "import pandas as pd\n",
        "from IPython.core.display import display\n",
        "\n",
        "data = {\n",
        "    \"evolution\": [\"Ivysaur\", \"Charmeleon\", \"Wartortle\", \"Metapod\"],\n",
        "    \"hp\": [45, 39, 44, 45],\n",
        "    \"name\": [\"Bulbasaur\", \"Charmander\", \"Squirtle\", \"Caterpie\"],\n",
        "    \"pokedex\": [\"yes\", \"no\", \"yes\", \"no\"],\n",
        "    \"type\": [\"grass\", \"fire\", \"water\", \"bug\"]\n",
        "}\n",
        "\n",
        "df = pd.DataFrame(data)\n",
        "\n",
        "df = df[[\"name\", \"type\", \"hp\", \"evolution\", \"pokedex\"]]\n",
        "\n",
        "styled_df = df.style.set_table_styles([\n",
        "    {'selector': 'th', 'props': [('font-weight', 'bold')]}\n",
        "])\n",
        "\n",
        "display(styled_df)\n"
      ]
    },
    {
      "cell_type": "markdown",
      "metadata": {
        "pycharm": {
          "name": "#%% md\n"
        },
        "id": "BjUFd7f3QSuK"
      },
      "source": [
        "### Step 5. Add another column called place, and insert what you have in mind."
      ]
    },
    {
      "cell_type": "code",
      "execution_count": 14,
      "metadata": {
        "pycharm": {
          "name": "#%%\n"
        },
        "id": "7wsNnaMVQSuL",
        "outputId": "13197c37-3e95-46e1-9ea7-9630b55291de",
        "colab": {
          "base_uri": "https://localhost:8080/",
          "height": 175
        }
      },
      "outputs": [
        {
          "output_type": "display_data",
          "data": {
            "text/plain": [
              "<pandas.io.formats.style.Styler at 0x7902cb808c10>"
            ],
            "text/html": [
              "<style type=\"text/css\">\n",
              "#T_c7a20 th {\n",
              "  font-weight: bold;\n",
              "}\n",
              "</style>\n",
              "<table id=\"T_c7a20\" class=\"dataframe\">\n",
              "  <thead>\n",
              "    <tr>\n",
              "      <th class=\"blank level0\" >&nbsp;</th>\n",
              "      <th id=\"T_c7a20_level0_col0\" class=\"col_heading level0 col0\" >name</th>\n",
              "      <th id=\"T_c7a20_level0_col1\" class=\"col_heading level0 col1\" >type</th>\n",
              "      <th id=\"T_c7a20_level0_col2\" class=\"col_heading level0 col2\" >hp</th>\n",
              "      <th id=\"T_c7a20_level0_col3\" class=\"col_heading level0 col3\" >evolution</th>\n",
              "      <th id=\"T_c7a20_level0_col4\" class=\"col_heading level0 col4\" >pokedex</th>\n",
              "      <th id=\"T_c7a20_level0_col5\" class=\"col_heading level0 col5\" >place</th>\n",
              "    </tr>\n",
              "  </thead>\n",
              "  <tbody>\n",
              "    <tr>\n",
              "      <th id=\"T_c7a20_level0_row0\" class=\"row_heading level0 row0\" >0</th>\n",
              "      <td id=\"T_c7a20_row0_col0\" class=\"data row0 col0\" >Bulbasaur</td>\n",
              "      <td id=\"T_c7a20_row0_col1\" class=\"data row0 col1\" >grass</td>\n",
              "      <td id=\"T_c7a20_row0_col2\" class=\"data row0 col2\" >45</td>\n",
              "      <td id=\"T_c7a20_row0_col3\" class=\"data row0 col3\" >Ivysaur</td>\n",
              "      <td id=\"T_c7a20_row0_col4\" class=\"data row0 col4\" >yes</td>\n",
              "      <td id=\"T_c7a20_row0_col5\" class=\"data row0 col5\" >phenikaa</td>\n",
              "    </tr>\n",
              "    <tr>\n",
              "      <th id=\"T_c7a20_level0_row1\" class=\"row_heading level0 row1\" >1</th>\n",
              "      <td id=\"T_c7a20_row1_col0\" class=\"data row1 col0\" >Charmander</td>\n",
              "      <td id=\"T_c7a20_row1_col1\" class=\"data row1 col1\" >fire</td>\n",
              "      <td id=\"T_c7a20_row1_col2\" class=\"data row1 col2\" >39</td>\n",
              "      <td id=\"T_c7a20_row1_col3\" class=\"data row1 col3\" >Charmeleon</td>\n",
              "      <td id=\"T_c7a20_row1_col4\" class=\"data row1 col4\" >no</td>\n",
              "      <td id=\"T_c7a20_row1_col5\" class=\"data row1 col5\" >bách khoa</td>\n",
              "    </tr>\n",
              "    <tr>\n",
              "      <th id=\"T_c7a20_level0_row2\" class=\"row_heading level0 row2\" >2</th>\n",
              "      <td id=\"T_c7a20_row2_col0\" class=\"data row2 col0\" >Squirtle</td>\n",
              "      <td id=\"T_c7a20_row2_col1\" class=\"data row2 col1\" >water</td>\n",
              "      <td id=\"T_c7a20_row2_col2\" class=\"data row2 col2\" >44</td>\n",
              "      <td id=\"T_c7a20_row2_col3\" class=\"data row2 col3\" >Wartortle</td>\n",
              "      <td id=\"T_c7a20_row2_col4\" class=\"data row2 col4\" >yes</td>\n",
              "      <td id=\"T_c7a20_row2_col5\" class=\"data row2 col5\" >giao thông vân tải</td>\n",
              "    </tr>\n",
              "    <tr>\n",
              "      <th id=\"T_c7a20_level0_row3\" class=\"row_heading level0 row3\" >3</th>\n",
              "      <td id=\"T_c7a20_row3_col0\" class=\"data row3 col0\" >Caterpie</td>\n",
              "      <td id=\"T_c7a20_row3_col1\" class=\"data row3 col1\" >bug</td>\n",
              "      <td id=\"T_c7a20_row3_col2\" class=\"data row3 col2\" >45</td>\n",
              "      <td id=\"T_c7a20_row3_col3\" class=\"data row3 col3\" >Metapod</td>\n",
              "      <td id=\"T_c7a20_row3_col4\" class=\"data row3 col4\" >no</td>\n",
              "      <td id=\"T_c7a20_row3_col5\" class=\"data row3 col5\" >Kanto</td>\n",
              "    </tr>\n",
              "  </tbody>\n",
              "</table>\n"
            ]
          },
          "metadata": {}
        }
      ],
      "source": [
        "import pandas as pd\n",
        "from IPython.core.display import display\n",
        "\n",
        "# Dữ liệu ban đầu\n",
        "data = {\n",
        "    \"evolution\": [\"Ivysaur\", \"Charmeleon\", \"Wartortle\", \"Metapod\"],\n",
        "    \"hp\": [45, 39, 44, 45],\n",
        "    \"name\": [\"Bulbasaur\", \"Charmander\", \"Squirtle\", \"Caterpie\"],\n",
        "    \"pokedex\": [\"yes\", \"no\", \"yes\", \"no\"],\n",
        "    \"type\": [\"grass\", \"fire\", \"water\", \"bug\"]\n",
        "}\n",
        "\n",
        "# Tạo DataFrame\n",
        "df = pd.DataFrame(data)\n",
        "\n",
        "# Sắp xếp lại thứ tự cột\n",
        "df = df[[\"name\", \"type\", \"hp\", \"evolution\", \"pokedex\"]]\n",
        "\n",
        "# Thêm cột mới \"place\" với dữ liệu tưởng tượng\n",
        "df[\"place\"] = [\"phenikaa\", \"bách khoa\", \"giao thông vân tải\", \"Kanto\"]\n",
        "\n",
        "# Làm tiêu đề in đậm\n",
        "styled_df = df.style.set_table_styles([\n",
        "    {'selector': 'th', 'props': [('font-weight', 'bold')]}\n",
        "])\n",
        "\n",
        "# Hiển thị DataFrame\n",
        "display(styled_df)\n"
      ]
    },
    {
      "cell_type": "markdown",
      "metadata": {
        "pycharm": {
          "name": "#%% md\n"
        },
        "id": "hXLReEBoQSuL"
      },
      "source": [
        "### Step 6. Present the type of each column"
      ]
    },
    {
      "cell_type": "code",
      "execution_count": 15,
      "metadata": {
        "pycharm": {
          "name": "#%%\n"
        },
        "id": "p2inlyI4QSuM",
        "outputId": "12ce820a-4d7b-4e4f-f424-33633a267585",
        "colab": {
          "base_uri": "https://localhost:8080/",
          "height": 331
        }
      },
      "outputs": [
        {
          "output_type": "display_data",
          "data": {
            "text/plain": [
              "<pandas.io.formats.style.Styler at 0x7902cb80fa90>"
            ],
            "text/html": [
              "<style type=\"text/css\">\n",
              "#T_51a86 th {\n",
              "  font-weight: bold;\n",
              "}\n",
              "</style>\n",
              "<table id=\"T_51a86\" class=\"dataframe\">\n",
              "  <thead>\n",
              "    <tr>\n",
              "      <th class=\"blank level0\" >&nbsp;</th>\n",
              "      <th id=\"T_51a86_level0_col0\" class=\"col_heading level0 col0\" >name</th>\n",
              "      <th id=\"T_51a86_level0_col1\" class=\"col_heading level0 col1\" >type</th>\n",
              "      <th id=\"T_51a86_level0_col2\" class=\"col_heading level0 col2\" >hp</th>\n",
              "      <th id=\"T_51a86_level0_col3\" class=\"col_heading level0 col3\" >evolution</th>\n",
              "      <th id=\"T_51a86_level0_col4\" class=\"col_heading level0 col4\" >pokedex</th>\n",
              "      <th id=\"T_51a86_level0_col5\" class=\"col_heading level0 col5\" >place</th>\n",
              "    </tr>\n",
              "  </thead>\n",
              "  <tbody>\n",
              "    <tr>\n",
              "      <th id=\"T_51a86_level0_row0\" class=\"row_heading level0 row0\" >0</th>\n",
              "      <td id=\"T_51a86_row0_col0\" class=\"data row0 col0\" >Bulbasaur</td>\n",
              "      <td id=\"T_51a86_row0_col1\" class=\"data row0 col1\" >grass</td>\n",
              "      <td id=\"T_51a86_row0_col2\" class=\"data row0 col2\" >45</td>\n",
              "      <td id=\"T_51a86_row0_col3\" class=\"data row0 col3\" >Ivysaur</td>\n",
              "      <td id=\"T_51a86_row0_col4\" class=\"data row0 col4\" >yes</td>\n",
              "      <td id=\"T_51a86_row0_col5\" class=\"data row0 col5\" >phenikaa</td>\n",
              "    </tr>\n",
              "    <tr>\n",
              "      <th id=\"T_51a86_level0_row1\" class=\"row_heading level0 row1\" >1</th>\n",
              "      <td id=\"T_51a86_row1_col0\" class=\"data row1 col0\" >Charmander</td>\n",
              "      <td id=\"T_51a86_row1_col1\" class=\"data row1 col1\" >fire</td>\n",
              "      <td id=\"T_51a86_row1_col2\" class=\"data row1 col2\" >39</td>\n",
              "      <td id=\"T_51a86_row1_col3\" class=\"data row1 col3\" >Charmeleon</td>\n",
              "      <td id=\"T_51a86_row1_col4\" class=\"data row1 col4\" >no</td>\n",
              "      <td id=\"T_51a86_row1_col5\" class=\"data row1 col5\" >bách khoa</td>\n",
              "    </tr>\n",
              "    <tr>\n",
              "      <th id=\"T_51a86_level0_row2\" class=\"row_heading level0 row2\" >2</th>\n",
              "      <td id=\"T_51a86_row2_col0\" class=\"data row2 col0\" >Squirtle</td>\n",
              "      <td id=\"T_51a86_row2_col1\" class=\"data row2 col1\" >water</td>\n",
              "      <td id=\"T_51a86_row2_col2\" class=\"data row2 col2\" >44</td>\n",
              "      <td id=\"T_51a86_row2_col3\" class=\"data row2 col3\" >Wartortle</td>\n",
              "      <td id=\"T_51a86_row2_col4\" class=\"data row2 col4\" >yes</td>\n",
              "      <td id=\"T_51a86_row2_col5\" class=\"data row2 col5\" >giao thông vân tải</td>\n",
              "    </tr>\n",
              "    <tr>\n",
              "      <th id=\"T_51a86_level0_row3\" class=\"row_heading level0 row3\" >3</th>\n",
              "      <td id=\"T_51a86_row3_col0\" class=\"data row3 col0\" >Caterpie</td>\n",
              "      <td id=\"T_51a86_row3_col1\" class=\"data row3 col1\" >bug</td>\n",
              "      <td id=\"T_51a86_row3_col2\" class=\"data row3 col2\" >45</td>\n",
              "      <td id=\"T_51a86_row3_col3\" class=\"data row3 col3\" >Metapod</td>\n",
              "      <td id=\"T_51a86_row3_col4\" class=\"data row3 col4\" >no</td>\n",
              "      <td id=\"T_51a86_row3_col5\" class=\"data row3 col5\" >Kanto</td>\n",
              "    </tr>\n",
              "  </tbody>\n",
              "</table>\n"
            ]
          },
          "metadata": {}
        },
        {
          "output_type": "stream",
          "name": "stdout",
          "text": [
            "\n",
            "Kiểu dữ liệu của mỗi cột:\n",
            "name         object\n",
            "type         object\n",
            "hp            int64\n",
            "evolution    object\n",
            "pokedex      object\n",
            "place        object\n",
            "dtype: object\n"
          ]
        }
      ],
      "source": [
        "import pandas as pd\n",
        "from IPython.core.display import display\n",
        "\n",
        "# Dữ liệu ban đầu\n",
        "data = {\n",
        "    \"evolution\": [\"Ivysaur\", \"Charmeleon\", \"Wartortle\", \"Metapod\"],\n",
        "    \"hp\": [45, 39, 44, 45],\n",
        "    \"name\": [\"Bulbasaur\", \"Charmander\", \"Squirtle\", \"Caterpie\"],\n",
        "    \"pokedex\": [\"yes\", \"no\", \"yes\", \"no\"],\n",
        "    \"type\": [\"grass\", \"fire\", \"water\", \"bug\"]\n",
        "}\n",
        "\n",
        "# Tạo DataFrame\n",
        "df = pd.DataFrame(data)\n",
        "\n",
        "# Sắp xếp lại thứ tự cột\n",
        "df = df[[\"name\", \"type\", \"hp\", \"evolution\", \"pokedex\"]]\n",
        "\n",
        "# Thêm cột mới \"place\" với dữ liệu tưởng tượng\n",
        "df[\"place\"] = [\"phenikaa\", \"bách khoa\", \"giao thông vân tải\", \"Kanto\"]\n",
        "\n",
        "# Làm tiêu đề in đậm\n",
        "styled_df = df.style.set_table_styles([{'selector': 'th', 'props': [('font-weight', 'bold')]}])\n",
        "\n",
        "# Hiển thị DataFrame\n",
        "display(styled_df)\n",
        "\n",
        "# Hiển thị kiểu dữ liệu của từng cột\n",
        "print(\"\\nKiểu dữ liệu của mỗi cột:\")\n",
        "print(df.dtypes)\n"
      ]
    },
    {
      "cell_type": "markdown",
      "metadata": {
        "pycharm": {
          "name": "#%% md\n"
        },
        "id": "Mh3i5wrNQSuM"
      },
      "source": [
        "### BONUS: Create your own question and answer it."
      ]
    },
    {
      "cell_type": "code",
      "execution_count": 16,
      "metadata": {
        "collapsed": true,
        "pycharm": {
          "name": "#%%\n"
        },
        "id": "TMcummo5QSuN",
        "outputId": "41aff92d-08de-4672-d87c-c72676c263e0",
        "colab": {
          "base_uri": "https://localhost:8080/",
          "height": 143
        }
      },
      "outputs": [
        {
          "output_type": "display_data",
          "data": {
            "text/plain": [
              "   evolution  hp       name pokedex   type\n",
              "0    Ivysaur  45  Bulbasaur     yes  grass\n",
              "2  Wartortle  44   Squirtle     yes  water\n",
              "3    Metapod  45   Caterpie      no    bug"
            ],
            "text/html": [
              "\n",
              "  <div id=\"df-f86b8125-75ce-4d5f-974e-7d597eb9ac26\" class=\"colab-df-container\">\n",
              "    <div>\n",
              "<style scoped>\n",
              "    .dataframe tbody tr th:only-of-type {\n",
              "        vertical-align: middle;\n",
              "    }\n",
              "\n",
              "    .dataframe tbody tr th {\n",
              "        vertical-align: top;\n",
              "    }\n",
              "\n",
              "    .dataframe thead th {\n",
              "        text-align: right;\n",
              "    }\n",
              "</style>\n",
              "<table border=\"1\" class=\"dataframe\">\n",
              "  <thead>\n",
              "    <tr style=\"text-align: right;\">\n",
              "      <th></th>\n",
              "      <th>evolution</th>\n",
              "      <th>hp</th>\n",
              "      <th>name</th>\n",
              "      <th>pokedex</th>\n",
              "      <th>type</th>\n",
              "    </tr>\n",
              "  </thead>\n",
              "  <tbody>\n",
              "    <tr>\n",
              "      <th>0</th>\n",
              "      <td>Ivysaur</td>\n",
              "      <td>45</td>\n",
              "      <td>Bulbasaur</td>\n",
              "      <td>yes</td>\n",
              "      <td>grass</td>\n",
              "    </tr>\n",
              "    <tr>\n",
              "      <th>2</th>\n",
              "      <td>Wartortle</td>\n",
              "      <td>44</td>\n",
              "      <td>Squirtle</td>\n",
              "      <td>yes</td>\n",
              "      <td>water</td>\n",
              "    </tr>\n",
              "    <tr>\n",
              "      <th>3</th>\n",
              "      <td>Metapod</td>\n",
              "      <td>45</td>\n",
              "      <td>Caterpie</td>\n",
              "      <td>no</td>\n",
              "      <td>bug</td>\n",
              "    </tr>\n",
              "  </tbody>\n",
              "</table>\n",
              "</div>\n",
              "    <div class=\"colab-df-buttons\">\n",
              "\n",
              "  <div class=\"colab-df-container\">\n",
              "    <button class=\"colab-df-convert\" onclick=\"convertToInteractive('df-f86b8125-75ce-4d5f-974e-7d597eb9ac26')\"\n",
              "            title=\"Convert this dataframe to an interactive table.\"\n",
              "            style=\"display:none;\">\n",
              "\n",
              "  <svg xmlns=\"http://www.w3.org/2000/svg\" height=\"24px\" viewBox=\"0 -960 960 960\">\n",
              "    <path d=\"M120-120v-720h720v720H120Zm60-500h600v-160H180v160Zm220 220h160v-160H400v160Zm0 220h160v-160H400v160ZM180-400h160v-160H180v160Zm440 0h160v-160H620v160ZM180-180h160v-160H180v160Zm440 0h160v-160H620v160Z\"/>\n",
              "  </svg>\n",
              "    </button>\n",
              "\n",
              "  <style>\n",
              "    .colab-df-container {\n",
              "      display:flex;\n",
              "      gap: 12px;\n",
              "    }\n",
              "\n",
              "    .colab-df-convert {\n",
              "      background-color: #E8F0FE;\n",
              "      border: none;\n",
              "      border-radius: 50%;\n",
              "      cursor: pointer;\n",
              "      display: none;\n",
              "      fill: #1967D2;\n",
              "      height: 32px;\n",
              "      padding: 0 0 0 0;\n",
              "      width: 32px;\n",
              "    }\n",
              "\n",
              "    .colab-df-convert:hover {\n",
              "      background-color: #E2EBFA;\n",
              "      box-shadow: 0px 1px 2px rgba(60, 64, 67, 0.3), 0px 1px 3px 1px rgba(60, 64, 67, 0.15);\n",
              "      fill: #174EA6;\n",
              "    }\n",
              "\n",
              "    .colab-df-buttons div {\n",
              "      margin-bottom: 4px;\n",
              "    }\n",
              "\n",
              "    [theme=dark] .colab-df-convert {\n",
              "      background-color: #3B4455;\n",
              "      fill: #D2E3FC;\n",
              "    }\n",
              "\n",
              "    [theme=dark] .colab-df-convert:hover {\n",
              "      background-color: #434B5C;\n",
              "      box-shadow: 0px 1px 3px 1px rgba(0, 0, 0, 0.15);\n",
              "      filter: drop-shadow(0px 1px 2px rgba(0, 0, 0, 0.3));\n",
              "      fill: #FFFFFF;\n",
              "    }\n",
              "  </style>\n",
              "\n",
              "    <script>\n",
              "      const buttonEl =\n",
              "        document.querySelector('#df-f86b8125-75ce-4d5f-974e-7d597eb9ac26 button.colab-df-convert');\n",
              "      buttonEl.style.display =\n",
              "        google.colab.kernel.accessAllowed ? 'block' : 'none';\n",
              "\n",
              "      async function convertToInteractive(key) {\n",
              "        const element = document.querySelector('#df-f86b8125-75ce-4d5f-974e-7d597eb9ac26');\n",
              "        const dataTable =\n",
              "          await google.colab.kernel.invokeFunction('convertToInteractive',\n",
              "                                                    [key], {});\n",
              "        if (!dataTable) return;\n",
              "\n",
              "        const docLinkHtml = 'Like what you see? Visit the ' +\n",
              "          '<a target=\"_blank\" href=https://colab.research.google.com/notebooks/data_table.ipynb>data table notebook</a>'\n",
              "          + ' to learn more about interactive tables.';\n",
              "        element.innerHTML = '';\n",
              "        dataTable['output_type'] = 'display_data';\n",
              "        await google.colab.output.renderOutput(dataTable, element);\n",
              "        const docLink = document.createElement('div');\n",
              "        docLink.innerHTML = docLinkHtml;\n",
              "        element.appendChild(docLink);\n",
              "      }\n",
              "    </script>\n",
              "  </div>\n",
              "\n",
              "\n",
              "<div id=\"df-36aaf2c9-bec5-4240-922c-b24d6399a9bc\">\n",
              "  <button class=\"colab-df-quickchart\" onclick=\"quickchart('df-36aaf2c9-bec5-4240-922c-b24d6399a9bc')\"\n",
              "            title=\"Suggest charts\"\n",
              "            style=\"display:none;\">\n",
              "\n",
              "<svg xmlns=\"http://www.w3.org/2000/svg\" height=\"24px\"viewBox=\"0 0 24 24\"\n",
              "     width=\"24px\">\n",
              "    <g>\n",
              "        <path d=\"M19 3H5c-1.1 0-2 .9-2 2v14c0 1.1.9 2 2 2h14c1.1 0 2-.9 2-2V5c0-1.1-.9-2-2-2zM9 17H7v-7h2v7zm4 0h-2V7h2v10zm4 0h-2v-4h2v4z\"/>\n",
              "    </g>\n",
              "</svg>\n",
              "  </button>\n",
              "\n",
              "<style>\n",
              "  .colab-df-quickchart {\n",
              "      --bg-color: #E8F0FE;\n",
              "      --fill-color: #1967D2;\n",
              "      --hover-bg-color: #E2EBFA;\n",
              "      --hover-fill-color: #174EA6;\n",
              "      --disabled-fill-color: #AAA;\n",
              "      --disabled-bg-color: #DDD;\n",
              "  }\n",
              "\n",
              "  [theme=dark] .colab-df-quickchart {\n",
              "      --bg-color: #3B4455;\n",
              "      --fill-color: #D2E3FC;\n",
              "      --hover-bg-color: #434B5C;\n",
              "      --hover-fill-color: #FFFFFF;\n",
              "      --disabled-bg-color: #3B4455;\n",
              "      --disabled-fill-color: #666;\n",
              "  }\n",
              "\n",
              "  .colab-df-quickchart {\n",
              "    background-color: var(--bg-color);\n",
              "    border: none;\n",
              "    border-radius: 50%;\n",
              "    cursor: pointer;\n",
              "    display: none;\n",
              "    fill: var(--fill-color);\n",
              "    height: 32px;\n",
              "    padding: 0;\n",
              "    width: 32px;\n",
              "  }\n",
              "\n",
              "  .colab-df-quickchart:hover {\n",
              "    background-color: var(--hover-bg-color);\n",
              "    box-shadow: 0 1px 2px rgba(60, 64, 67, 0.3), 0 1px 3px 1px rgba(60, 64, 67, 0.15);\n",
              "    fill: var(--button-hover-fill-color);\n",
              "  }\n",
              "\n",
              "  .colab-df-quickchart-complete:disabled,\n",
              "  .colab-df-quickchart-complete:disabled:hover {\n",
              "    background-color: var(--disabled-bg-color);\n",
              "    fill: var(--disabled-fill-color);\n",
              "    box-shadow: none;\n",
              "  }\n",
              "\n",
              "  .colab-df-spinner {\n",
              "    border: 2px solid var(--fill-color);\n",
              "    border-color: transparent;\n",
              "    border-bottom-color: var(--fill-color);\n",
              "    animation:\n",
              "      spin 1s steps(1) infinite;\n",
              "  }\n",
              "\n",
              "  @keyframes spin {\n",
              "    0% {\n",
              "      border-color: transparent;\n",
              "      border-bottom-color: var(--fill-color);\n",
              "      border-left-color: var(--fill-color);\n",
              "    }\n",
              "    20% {\n",
              "      border-color: transparent;\n",
              "      border-left-color: var(--fill-color);\n",
              "      border-top-color: var(--fill-color);\n",
              "    }\n",
              "    30% {\n",
              "      border-color: transparent;\n",
              "      border-left-color: var(--fill-color);\n",
              "      border-top-color: var(--fill-color);\n",
              "      border-right-color: var(--fill-color);\n",
              "    }\n",
              "    40% {\n",
              "      border-color: transparent;\n",
              "      border-right-color: var(--fill-color);\n",
              "      border-top-color: var(--fill-color);\n",
              "    }\n",
              "    60% {\n",
              "      border-color: transparent;\n",
              "      border-right-color: var(--fill-color);\n",
              "    }\n",
              "    80% {\n",
              "      border-color: transparent;\n",
              "      border-right-color: var(--fill-color);\n",
              "      border-bottom-color: var(--fill-color);\n",
              "    }\n",
              "    90% {\n",
              "      border-color: transparent;\n",
              "      border-bottom-color: var(--fill-color);\n",
              "    }\n",
              "  }\n",
              "</style>\n",
              "\n",
              "  <script>\n",
              "    async function quickchart(key) {\n",
              "      const quickchartButtonEl =\n",
              "        document.querySelector('#' + key + ' button');\n",
              "      quickchartButtonEl.disabled = true;  // To prevent multiple clicks.\n",
              "      quickchartButtonEl.classList.add('colab-df-spinner');\n",
              "      try {\n",
              "        const charts = await google.colab.kernel.invokeFunction(\n",
              "            'suggestCharts', [key], {});\n",
              "      } catch (error) {\n",
              "        console.error('Error during call to suggestCharts:', error);\n",
              "      }\n",
              "      quickchartButtonEl.classList.remove('colab-df-spinner');\n",
              "      quickchartButtonEl.classList.add('colab-df-quickchart-complete');\n",
              "    }\n",
              "    (() => {\n",
              "      let quickchartButtonEl =\n",
              "        document.querySelector('#df-36aaf2c9-bec5-4240-922c-b24d6399a9bc button');\n",
              "      quickchartButtonEl.style.display =\n",
              "        google.colab.kernel.accessAllowed ? 'block' : 'none';\n",
              "    })();\n",
              "  </script>\n",
              "</div>\n",
              "\n",
              "  <div id=\"id_1d6278ae-d576-461f-be0d-69563d4109ab\">\n",
              "    <style>\n",
              "      .colab-df-generate {\n",
              "        background-color: #E8F0FE;\n",
              "        border: none;\n",
              "        border-radius: 50%;\n",
              "        cursor: pointer;\n",
              "        display: none;\n",
              "        fill: #1967D2;\n",
              "        height: 32px;\n",
              "        padding: 0 0 0 0;\n",
              "        width: 32px;\n",
              "      }\n",
              "\n",
              "      .colab-df-generate:hover {\n",
              "        background-color: #E2EBFA;\n",
              "        box-shadow: 0px 1px 2px rgba(60, 64, 67, 0.3), 0px 1px 3px 1px rgba(60, 64, 67, 0.15);\n",
              "        fill: #174EA6;\n",
              "      }\n",
              "\n",
              "      [theme=dark] .colab-df-generate {\n",
              "        background-color: #3B4455;\n",
              "        fill: #D2E3FC;\n",
              "      }\n",
              "\n",
              "      [theme=dark] .colab-df-generate:hover {\n",
              "        background-color: #434B5C;\n",
              "        box-shadow: 0px 1px 3px 1px rgba(0, 0, 0, 0.15);\n",
              "        filter: drop-shadow(0px 1px 2px rgba(0, 0, 0, 0.3));\n",
              "        fill: #FFFFFF;\n",
              "      }\n",
              "    </style>\n",
              "    <button class=\"colab-df-generate\" onclick=\"generateWithVariable('filtered_df')\"\n",
              "            title=\"Generate code using this dataframe.\"\n",
              "            style=\"display:none;\">\n",
              "\n",
              "  <svg xmlns=\"http://www.w3.org/2000/svg\" height=\"24px\"viewBox=\"0 0 24 24\"\n",
              "       width=\"24px\">\n",
              "    <path d=\"M7,19H8.4L18.45,9,17,7.55,7,17.6ZM5,21V16.75L18.45,3.32a2,2,0,0,1,2.83,0l1.4,1.43a1.91,1.91,0,0,1,.58,1.4,1.91,1.91,0,0,1-.58,1.4L9.25,21ZM18.45,9,17,7.55Zm-12,3A5.31,5.31,0,0,0,4.9,8.1,5.31,5.31,0,0,0,1,6.5,5.31,5.31,0,0,0,4.9,4.9,5.31,5.31,0,0,0,6.5,1,5.31,5.31,0,0,0,8.1,4.9,5.31,5.31,0,0,0,12,6.5,5.46,5.46,0,0,0,6.5,12Z\"/>\n",
              "  </svg>\n",
              "    </button>\n",
              "    <script>\n",
              "      (() => {\n",
              "      const buttonEl =\n",
              "        document.querySelector('#id_1d6278ae-d576-461f-be0d-69563d4109ab button.colab-df-generate');\n",
              "      buttonEl.style.display =\n",
              "        google.colab.kernel.accessAllowed ? 'block' : 'none';\n",
              "\n",
              "      buttonEl.onclick = () => {\n",
              "        google.colab.notebook.generateWithVariable('filtered_df');\n",
              "      }\n",
              "      })();\n",
              "    </script>\n",
              "  </div>\n",
              "\n",
              "    </div>\n",
              "  </div>\n"
            ],
            "application/vnd.google.colaboratory.intrinsic+json": {
              "type": "dataframe",
              "variable_name": "filtered_df",
              "summary": "{\n  \"name\": \"filtered_df\",\n  \"rows\": 3,\n  \"fields\": [\n    {\n      \"column\": \"evolution\",\n      \"properties\": {\n        \"dtype\": \"string\",\n        \"num_unique_values\": 3,\n        \"samples\": [\n          \"Ivysaur\",\n          \"Wartortle\",\n          \"Metapod\"\n        ],\n        \"semantic_type\": \"\",\n        \"description\": \"\"\n      }\n    },\n    {\n      \"column\": \"hp\",\n      \"properties\": {\n        \"dtype\": \"number\",\n        \"std\": 0,\n        \"min\": 44,\n        \"max\": 45,\n        \"num_unique_values\": 2,\n        \"samples\": [\n          44,\n          45\n        ],\n        \"semantic_type\": \"\",\n        \"description\": \"\"\n      }\n    },\n    {\n      \"column\": \"name\",\n      \"properties\": {\n        \"dtype\": \"string\",\n        \"num_unique_values\": 3,\n        \"samples\": [\n          \"Bulbasaur\",\n          \"Squirtle\"\n        ],\n        \"semantic_type\": \"\",\n        \"description\": \"\"\n      }\n    },\n    {\n      \"column\": \"pokedex\",\n      \"properties\": {\n        \"dtype\": \"string\",\n        \"num_unique_values\": 2,\n        \"samples\": [\n          \"no\",\n          \"yes\"\n        ],\n        \"semantic_type\": \"\",\n        \"description\": \"\"\n      }\n    },\n    {\n      \"column\": \"type\",\n      \"properties\": {\n        \"dtype\": \"string\",\n        \"num_unique_values\": 3,\n        \"samples\": [\n          \"grass\",\n          \"water\"\n        ],\n        \"semantic_type\": \"\",\n        \"description\": \"\"\n      }\n    }\n  ]\n}"
            }
          },
          "metadata": {}
        }
      ],
      "source": [
        "# Làm thế nào để lọc các dòng dữ liệu trong DataFrame\n",
        "# thỏa mãn một điều kiện cụ thể,\n",
        "#  ví dụ: chỉ lấy các Pokémon có chỉ số HP lớn hơn 40?\n",
        "\n",
        "import pandas as pd\n",
        "from IPython.core.display import display\n",
        "\n",
        "# Dữ liệu ban đầu\n",
        "data = {\n",
        "    \"evolution\": [\"Ivysaur\", \"Charmeleon\", \"Wartortle\", \"Metapod\"],\n",
        "    \"hp\": [45, 39, 44, 45],\n",
        "    \"name\": [\"Bulbasaur\", \"Charmander\", \"Squirtle\", \"Caterpie\"],\n",
        "    \"pokedex\": [\"yes\", \"no\", \"yes\", \"no\"],\n",
        "    \"type\": [\"grass\", \"fire\", \"water\", \"bug\"]\n",
        "}\n",
        "\n",
        "# Tạo DataFrame\n",
        "df = pd.DataFrame(data)\n",
        "\n",
        "# Lọc các dòng có HP lớn hơn 40\n",
        "filtered_df = df[df['hp'] > 40]\n",
        "\n",
        "# Hiển thị kết quả\n",
        "display(filtered_df)\n"
      ]
    }
  ],
  "metadata": {
    "kernelspec": {
      "display_name": "Python 2",
      "language": "python",
      "name": "python2"
    },
    "language_info": {
      "codemirror_mode": {
        "name": "ipython",
        "version": 2
      },
      "file_extension": ".py",
      "mimetype": "text/x-python",
      "name": "python",
      "nbconvert_exporter": "python",
      "pygments_lexer": "ipython2",
      "version": "2.7.11"
    },
    "colab": {
      "provenance": [],
      "include_colab_link": true
    }
  },
  "nbformat": 4,
  "nbformat_minor": 0
}